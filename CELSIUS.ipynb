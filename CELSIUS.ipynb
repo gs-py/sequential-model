{
  "nbformat": 4,
  "nbformat_minor": 0,
  "metadata": {
    "colab": {
      "provenance": [],
      "toc_visible": true,
      "authorship_tag": "ABX9TyOha/cf6oiTUxDQeq7GVD9R",
      "include_colab_link": true
    },
    "kernelspec": {
      "name": "python3",
      "display_name": "Python 3"
    },
    "language_info": {
      "name": "python"
    }
  },
  "cells": [
    {
      "cell_type": "markdown",
      "metadata": {
        "id": "view-in-github",
        "colab_type": "text"
      },
      "source": [
        "<a href=\"https://colab.research.google.com/github/gs-py/sequential-model/blob/main/CELSIUS.ipynb\" target=\"_parent\"><img src=\"https://colab.research.google.com/assets/colab-badge.svg\" alt=\"Open In Colab\"/></a>"
      ]
    },
    {
      "cell_type": "markdown",
      "source": [
        "\n",
        "#CODING"
      ],
      "metadata": {
        "id": "EIW0ihaIP3KH"
      }
    },
    {
      "cell_type": "markdown",
      "source": [
        "Creating my first machine Learning program\n",
        "Celsius to farenhiet convertion program\n",
        "\n",
        "\n",
        "```\n",
        "# This is formatted as code\n",
        "f  = c*1.8  + 32\n",
        "```\n",
        "\n",
        "\n"
      ],
      "metadata": {
        "id": "8xo-JBd9OHsz"
      }
    },
    {
      "cell_type": "code",
      "source": [
        "##ADDITIONAL\n",
        "import tensorflow as tf\n",
        "import seaborn as sns\n",
        "from sklearn.metrics import confusion_matrix # Import confusion matrix\n",
        "\n",
        "print(tf.version)"
      ],
      "metadata": {
        "colab": {
          "base_uri": "https://localhost:8080/"
        },
        "id": "jexehCyFOzA9",
        "outputId": "5c69bc25-8e3d-42ff-be06-f5adb4c8095f"
      },
      "execution_count": 11,
      "outputs": [
        {
          "output_type": "stream",
          "name": "stdout",
          "text": [
            "<module 'tensorflow._api.v2.version' from '/usr/local/lib/python3.10/dist-packages/tensorflow/_api/v2/version/__init__.py'>\n"
          ]
        }
      ]
    },
    {
      "cell_type": "code",
      "source": [
        "import numpy as np\n",
        "import logging\n",
        "logger =tf.get_logger()\n",
        "logger.setLevel(logging.ERROR)"
      ],
      "metadata": {
        "id": "v_uMuF3cQa6a"
      },
      "execution_count": 4,
      "outputs": []
    },
    {
      "cell_type": "code",
      "execution_count": 5,
      "metadata": {
        "id": "gg4pn6aI1vms",
        "colab": {
          "base_uri": "https://localhost:8080/"
        },
        "outputId": "3565837d-c453-4c2f-b26f-991cd8a566a9"
      },
      "outputs": [
        {
          "output_type": "stream",
          "name": "stdout",
          "text": [
            "-40.0 degrees Celsius = -40.0 degrees Fahrenheit\n",
            "-10.0 degrees Celsius = 14.0 degrees Fahrenheit\n",
            "0.0 degrees Celsius = 32.0 degrees Fahrenheit\n",
            "8.0 degrees Celsius = 46.0 degrees Fahrenheit\n",
            "15.0 degrees Celsius = 59.0 degrees Fahrenheit\n",
            "22.0 degrees Celsius = 72.0 degrees Fahrenheit\n",
            "38.0 degrees Celsius = 100.0 degrees Fahrenheit\n"
          ]
        }
      ],
      "source": [
        "celsius_q    = np.array([-40, -10,  0,  8, 15, 22,  38],  dtype=float)\n",
        "fahrenheit_a = np.array([-40,  14, 32, 46, 59, 72, 100],  dtype=float)\n",
        "\n",
        "for i,c in enumerate(celsius_q):\n",
        "  print(\"{} degrees Celsius = {} degrees Fahrenheit\".format(c, fahrenheit_a[i]))"
      ]
    },
    {
      "cell_type": "code",
      "source": [
        "l0 = tf.keras.layers.Dense(units =1, input_shape =[1])\n",
        "model= tf.keras.Sequential([l0])\n",
        "model.summary()\n"
      ],
      "metadata": {
        "colab": {
          "base_uri": "https://localhost:8080/"
        },
        "id": "Yw-PhfHASzl_",
        "outputId": "dd650d77-2f12-4195-926a-957a05766aed"
      },
      "execution_count": 6,
      "outputs": [
        {
          "output_type": "stream",
          "name": "stdout",
          "text": [
            "Model: \"sequential\"\n",
            "_________________________________________________________________\n",
            " Layer (type)                Output Shape              Param #   \n",
            "=================================================================\n",
            " dense (Dense)               (None, 1)                 2         \n",
            "                                                                 \n",
            "=================================================================\n",
            "Total params: 2 (8.00 Byte)\n",
            "Trainable params: 2 (8.00 Byte)\n",
            "Non-trainable params: 0 (0.00 Byte)\n",
            "_________________________________________________________________\n"
          ]
        }
      ]
    },
    {
      "cell_type": "markdown",
      "source": [
        "After that compile the model using complie function then train the model using the fit function"
      ],
      "metadata": {
        "id": "PkhBfJppVXQM"
      }
    },
    {
      "cell_type": "code",
      "source": [
        "model.compile( loss='mean_squared_error' , optimizer= tf.keras.optimizers.Adam(0.2), metrics=['accuracy'])"
      ],
      "metadata": {
        "id": "FLnkjJw8VjwX"
      },
      "execution_count": 7,
      "outputs": []
    },
    {
      "cell_type": "markdown",
      "source": [],
      "metadata": {
        "id": "UhRq7N5XxlQi"
      }
    },
    {
      "cell_type": "code",
      "source": [
        "history = model.fit(celsius_q, fahrenheit_a, epochs=500, batch_size=1000, validation_split=0.1, shuffle=True, verbose=False)\n",
        "print(\"Finished training the model\")\n",
        "print(model.get_weights())"
      ],
      "metadata": {
        "colab": {
          "base_uri": "https://localhost:8080/"
        },
        "id": "6FMBXVCWWvb3",
        "outputId": "9f649faf-0d50-4ba9-a95a-9ad9a4e0a103"
      },
      "execution_count": 10,
      "outputs": [
        {
          "output_type": "stream",
          "name": "stdout",
          "text": [
            "Finished training the model\n",
            "[array([[1.8022681]], dtype=float32), array([32.00185], dtype=float32)]\n"
          ]
        }
      ]
    },
    {
      "cell_type": "code",
      "source": [
        "import matplotlib.pyplot as plt\n",
        "plt.xlabel(' Epoch number')\n",
        "plt.ylabel('Loss magnitude')\n",
        "plt.plot(history.history['loss'])"
      ],
      "metadata": {
        "id": "rKxZcRNcW19f"
      },
      "execution_count": null,
      "outputs": []
    },
    {
      "cell_type": "code",
      "source": [
        "print(model.predict([100]))\n",
        "y_pred_probs = model.predict(celsius_q)\n",
        "y_pred = y_pred_probs.argmax(axis=1)  # Get the class with highest probability\n",
        "\n",
        "# Assuming 'y_test' holds the true labels for your test data\n",
        "cm = confusion_matrix(celsius_q, y_pred)\n",
        "\n",
        "# Display the confusion matrix nicely\n",
        "plt.figure(figsize=(8, 6))\n",
        "sns.heatmap(cm, annot=True, fmt='d', cmap='Blues')\n",
        "plt.xlabel('Predicted Labels')\n",
        "plt.ylabel('True Labels')\n",
        "plt.title('Confusion Matrix')\n",
        "plt.show()"
      ],
      "metadata": {
        "id": "c26i6hochPGy"
      },
      "execution_count": null,
      "outputs": []
    }
  ]
}